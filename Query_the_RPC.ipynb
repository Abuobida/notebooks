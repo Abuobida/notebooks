{
 "metadata": {
  "name": "",
  "signature": "sha256:c56a29b91bc3c7efb1934730afebcb987ace3ae20e56bf84596c1d2b211429c1"
 },
 "nbformat": 3,
 "nbformat_minor": 0,
 "worksheets": [
  {
   "cells": [
    {
     "cell_type": "heading",
     "level": 1,
     "metadata": {},
     "source": [
      "Query the RPC and make a plot"
     ]
    },
    {
     "cell_type": "markdown",
     "metadata": {},
     "source": [
      "There are some rocks in [SubSurfWiki.org](http://subsurfwiki.org), stored as [Semantic MediaWiki](https://semantic-mediawiki.org/) objects. We can query this database over the Internet, store the results of the query locally, and plot the results (or do math with them, or anything we like!). "
     ]
    },
    {
     "cell_type": "heading",
     "level": 3,
     "metadata": {},
     "source": [
      "Requirements"
     ]
    },
    {
     "cell_type": "markdown",
     "metadata": {},
     "source": [
      "This notebook requires a couple of libraries, apart from the usual `SciPy` stack (for `NumPy`, `matplotlib`, etc). You can install both of these with `pip`.\n",
      "\n",
      "- `requests`\n",
      "- `pandas`"
     ]
    },
    {
     "cell_type": "heading",
     "level": 2,
     "metadata": {},
     "source": [
      "Basic query"
     ]
    },
    {
     "cell_type": "markdown",
     "metadata": {},
     "source": [
      "First import the libraries we will need."
     ]
    },
    {
     "cell_type": "code",
     "collapsed": false,
     "input": [
      "import pandas as pd\n",
      "import requests"
     ],
     "language": "python",
     "metadata": {},
     "outputs": [],
     "prompt_number": 1
    },
    {
     "cell_type": "markdown",
     "metadata": {},
     "source": [
      "We'll do a quick query to show the concept."
     ]
    },
    {
     "cell_type": "code",
     "collapsed": false,
     "input": [
      "base_url = \"http://www.subsurfwiki.org/mediawiki/api.php\"\n",
      "query = \"action=ask&query=[[Category:Rock property catalog]]|?Lithology|?Vp|?rho&format=json\"\n",
      "\n",
      "response = requests.get(base_url, params=query)"
     ],
     "language": "python",
     "metadata": {},
     "outputs": [],
     "prompt_number": 2
    },
    {
     "cell_type": "code",
     "collapsed": false,
     "input": [
      "response.json()['query']['results']['Anisotropic shale (Levin 1979)']"
     ],
     "language": "python",
     "metadata": {},
     "outputs": [
      {
       "metadata": {},
       "output_type": "pyout",
       "prompt_number": 3,
       "text": [
        "{u'exists': True,\n",
        " u'fulltext': u'Anisotropic shale (Levin 1979)',\n",
        " u'fullurl': u'http://www.subsurfwiki.org/wiki/Anisotropic_shale_(Levin_1979)',\n",
        " u'namespace': 0,\n",
        " u'printouts': {u'Lithology': [{u'exists': True,\n",
        "    u'fulltext': u'Shale',\n",
        "    u'fullurl': u'http://www.subsurfwiki.org/wiki/Shale',\n",
        "    u'namespace': 0}],\n",
        "  u'Rho': [{u'unit': u'kg/m\\xb3', u'value': 2340}],\n",
        "  u'Vp': [{u'unit': u'm/s', u'value': 2745}]}}"
       ]
      }
     ],
     "prompt_number": 3
    },
    {
     "cell_type": "heading",
     "level": 2,
     "metadata": {},
     "source": [
      "Make some functions"
     ]
    },
    {
     "cell_type": "markdown",
     "metadata": {},
     "source": [
      "We'd like to just define a list of properties to query:"
     ]
    },
    {
     "cell_type": "code",
     "collapsed": false,
     "input": [
      "properties = ['Vp', 'Vs', 'Rho', 'Delta', 'Epsilon', 'Lithology']"
     ],
     "language": "python",
     "metadata": {},
     "outputs": [],
     "prompt_number": 31
    },
    {
     "cell_type": "markdown",
     "metadata": {},
     "source": [
      "Then we can make a function to make the query, as we did above. "
     ]
    },
    {
     "cell_type": "code",
     "collapsed": false,
     "input": [
      "def query_ssw(properties=['Vp', 'Vs', 'Rho', 'Lithology']):\n",
      "    \"\"\"\n",
      "    Takes a list of properties in the wiki, and\n",
      "    returns the JSON response.\n",
      "    \"\"\"\n",
      "    base_url = \"http://www.subsurfwiki.org/mediawiki/api.php\"\n",
      "    prop_string = '|?' + '|?'.join(properties)\n",
      "    q = \"action=ask&query=[[Category:Rock property catalog]]\"\n",
      "    q += prop_string +'&format=json'\n",
      "    r = requests.get(base_url, params=q)\n",
      "    return r.json()"
     ],
     "language": "python",
     "metadata": {},
     "outputs": [],
     "prompt_number": 32
    },
    {
     "cell_type": "code",
     "collapsed": false,
     "input": [
      "query_ssw(properties)['query']['results']['Mesaverde immature sandstone 3 (Kelly 1983)']"
     ],
     "language": "python",
     "metadata": {},
     "outputs": [
      {
       "metadata": {},
       "output_type": "pyout",
       "prompt_number": 34,
       "text": [
        "{u'exists': True,\n",
        " u'fulltext': u'Mesaverde immature sandstone 3 (Kelly 1983)',\n",
        " u'fullurl': u'http://www.subsurfwiki.org/wiki/Mesaverde_immature_sandstone_3_(Kelly_1983)',\n",
        " u'namespace': 0,\n",
        " u'printouts': {u'Delta': [0.148],\n",
        "  u'Epsilon': [0.091],\n",
        "  u'Lithology': [{u'exists': True,\n",
        "    u'fulltext': u'Sandstone',\n",
        "    u'fullurl': u'http://www.subsurfwiki.org/wiki/Sandstone',\n",
        "    u'namespace': 0}],\n",
        "  u'Rho': [{u'unit': u'kg/m\\xb3', u'value': 2460}],\n",
        "  u'Vp': [{u'unit': u'm/s', u'value': 4349}],\n",
        "  u'Vs': [{u'unit': u'm/s', u'value': 2571}]}}"
       ]
      }
     ],
     "prompt_number": 34
    },
    {
     "cell_type": "markdown",
     "metadata": {},
     "source": [
      "Awesome!\n",
      "\n",
      "Next, we will need to know what format the items properties are, so that we can extract them from the dictionary. Luckily, part of the response contains exactly this information:"
     ]
    },
    {
     "cell_type": "code",
     "collapsed": false,
     "input": [
      "response.json()['query']['printrequests']"
     ],
     "language": "python",
     "metadata": {},
     "outputs": [
      {
       "metadata": {},
       "output_type": "pyout",
       "prompt_number": 7,
       "text": [
        "[{u'format': False, u'label': u'', u'mode': 2, u'typeid': u'_wpg'},\n",
        " {u'format': u'', u'label': u'Lithology', u'mode': 1, u'typeid': u'_wpg'},\n",
        " {u'format': u'', u'label': u'Vp', u'mode': 1, u'typeid': u'_qty'},\n",
        " {u'format': u'', u'label': u'Rho', u'mode': 1, u'typeid': u'_qty'}]"
       ]
      }
     ],
     "prompt_number": 7
    },
    {
     "cell_type": "code",
     "collapsed": false,
     "input": [
      "def get_formats(response):\n",
      "    formats = {}\n",
      "    for item in response['query']['printrequests']:\n",
      "        if item[u'mode'] == 1:\n",
      "            formats[item[u'label']] = item[u'typeid'].lstrip('_')\n",
      "    return formats"
     ],
     "language": "python",
     "metadata": {},
     "outputs": [],
     "prompt_number": 8
    },
    {
     "cell_type": "code",
     "collapsed": false,
     "input": [
      "get_formats(response.json())"
     ],
     "language": "python",
     "metadata": {},
     "outputs": [
      {
       "metadata": {},
       "output_type": "pyout",
       "prompt_number": 9,
       "text": [
        "{u'Lithology': u'wpg', u'Rho': u'qty', u'Vp': u'qty'}"
       ]
      }
     ],
     "prompt_number": 9
    },
    {
     "cell_type": "markdown",
     "metadata": {},
     "source": [
      "That works. \n",
      "\n",
      "Now we can build the dataframe."
     ]
    },
    {
     "cell_type": "code",
     "collapsed": false,
     "input": [
      "def build_dataframe(response):\n",
      "    \"\"\"\n",
      "    Takes the response of a query and returns a pandas\n",
      "    dataframe containing the results.\n",
      "    \"\"\"\n",
      "    \n",
      "    # Start with a Series.\n",
      "    s = pd.Series(response['query']['results'].keys())\n",
      "    \n",
      "    # Build into a DataFrame.\n",
      "    df = pd.DataFrame(s, columns=['Sample'])\n",
      "    \n",
      "    # We'll need to know the formats of the columns.\n",
      "    formats = get_formats(response)\n",
      "    properties = formats.keys()\n",
      "    \n",
      "    # Now traverse the JSON and build the DataFrame.\n",
      "    # This feels very clunky, but it's fast enough.\n",
      "    for prop in properties:\n",
      "        temp = []\n",
      "        for row in s:\n",
      "            p = response['query']['results'][row]['printouts']\n",
      "            if formats[prop] == 'num':    # Ordinary number\n",
      "                if p[prop]:\n",
      "                    temp.append(p[prop][0])\n",
      "                else:\n",
      "                    temp.append(None)\n",
      "            elif formats[prop] == 'qty':  # Quantity, number + unit\n",
      "                if p[prop]:\n",
      "                    temp.append(p[prop][0]['value'])\n",
      "                else:\n",
      "                    temp.append(None)\n",
      "            elif formats[prop] == 'wpg':  # Wiki page\n",
      "                if p[prop]:\n",
      "                    temp.append(p[prop][0]['fulltext'])\n",
      "                else:\n",
      "                    temp.append(None)\n",
      "        df[prop] = temp\n",
      "    return df"
     ],
     "language": "python",
     "metadata": {},
     "outputs": [],
     "prompt_number": 10
    },
    {
     "cell_type": "markdown",
     "metadata": {},
     "source": [
      "Might as well wrap it all:"
     ]
    },
    {
     "cell_type": "code",
     "collapsed": false,
     "input": [
      "def query_rpc(properties=['Vp', 'Vs', 'Rho', 'Lithology']):\n",
      "    \"\"\"\n",
      "    This function might be pointless.\n",
      "    \"\"\"\n",
      "    r = query_ssw(properties)\n",
      "    return build_dataframe(r)"
     ],
     "language": "python",
     "metadata": {},
     "outputs": [],
     "prompt_number": 11
    },
    {
     "cell_type": "code",
     "collapsed": false,
     "input": [
      "df = query_rpc(properties)"
     ],
     "language": "python",
     "metadata": {},
     "outputs": [],
     "prompt_number": 12
    },
    {
     "cell_type": "code",
     "collapsed": false,
     "input": [
      "df[:10]"
     ],
     "language": "python",
     "metadata": {},
     "outputs": [
      {
       "html": [
        "<div style=\"max-height:1000px;max-width:1500px;overflow:auto;\">\n",
        "<table border=\"1\" class=\"dataframe\">\n",
        "  <thead>\n",
        "    <tr style=\"text-align: right;\">\n",
        "      <th></th>\n",
        "      <th>Sample</th>\n",
        "      <th>Lithology</th>\n",
        "      <th>Epsilon</th>\n",
        "      <th>Vp</th>\n",
        "      <th>Vs</th>\n",
        "      <th>Rho</th>\n",
        "      <th>Delta</th>\n",
        "    </tr>\n",
        "  </thead>\n",
        "  <tbody>\n",
        "    <tr>\n",
        "      <th>0</th>\n",
        "      <td>                      Mesaverde shale 2 (Lin 1985)</td>\n",
        "      <td>     Shale</td>\n",
        "      <td> 0.137</td>\n",
        "      <td> 3901</td>\n",
        "      <td> 2682</td>\n",
        "      <td> 2640</td>\n",
        "      <td>-0.012</td>\n",
        "    </tr>\n",
        "    <tr>\n",
        "      <th>1</th>\n",
        "      <td>       Mesaverde immature sandstone 3 (Kelly 1983)</td>\n",
        "      <td> Sandstone</td>\n",
        "      <td> 0.091</td>\n",
        "      <td> 4349</td>\n",
        "      <td> 2571</td>\n",
        "      <td> 2460</td>\n",
        "      <td> 0.148</td>\n",
        "    </tr>\n",
        "    <tr>\n",
        "      <th>2</th>\n",
        "      <td>                Mesaverde clayshale 2 (Kelly 1983)</td>\n",
        "      <td>     Shale</td>\n",
        "      <td> 0.189</td>\n",
        "      <td> 3794</td>\n",
        "      <td> 2074</td>\n",
        "      <td> 2560</td>\n",
        "      <td> 0.204</td>\n",
        "    </tr>\n",
        "    <tr>\n",
        "      <th>3</th>\n",
        "      <td>                 LS-anisotropic shale (Levin 1979)</td>\n",
        "      <td>     Shale</td>\n",
        "      <td> 0.169</td>\n",
        "      <td> 3306</td>\n",
        "      <td> 1819</td>\n",
        "      <td> 2440</td>\n",
        "      <td> 0.000</td>\n",
        "    </tr>\n",
        "    <tr>\n",
        "      <th>4</th>\n",
        "      <td>         Mesaverde immature sandstone (Kelly 1983)</td>\n",
        "      <td> Sandstone</td>\n",
        "      <td> 0.097</td>\n",
        "      <td> 4476</td>\n",
        "      <td> 2814</td>\n",
        "      <td> 2500</td>\n",
        "      <td> 0.091</td>\n",
        "    </tr>\n",
        "    <tr>\n",
        "      <th>5</th>\n",
        "      <td> Calcite crystal (hexag. approx.) (Simmons and ...</td>\n",
        "      <td>   Crystal</td>\n",
        "      <td> 0.369</td>\n",
        "      <td> 5334</td>\n",
        "      <td> 3353</td>\n",
        "      <td> 2710</td>\n",
        "      <td> 0.579</td>\n",
        "    </tr>\n",
        "    <tr>\n",
        "      <th>6</th>\n",
        "      <td>                       Berea sandstone (King 1964)</td>\n",
        "      <td> Sandstone</td>\n",
        "      <td> 0.002</td>\n",
        "      <td> 4206</td>\n",
        "      <td> 2664</td>\n",
        "      <td> 2140</td>\n",
        "      <td> 0.020</td>\n",
        "    </tr>\n",
        "    <tr>\n",
        "      <th>7</th>\n",
        "      <td>            Green River shale (Schock et al. 1974)</td>\n",
        "      <td>     Shale</td>\n",
        "      <td> 0.195</td>\n",
        "      <td> 3292</td>\n",
        "      <td> 1768</td>\n",
        "      <td> 2075</td>\n",
        "      <td>-0.220</td>\n",
        "    </tr>\n",
        "    <tr>\n",
        "      <th>8</th>\n",
        "      <td>                    Mesaverde sandstone (Lin 1985)</td>\n",
        "      <td> Sandstone</td>\n",
        "      <td> 0.081</td>\n",
        "      <td> 3688</td>\n",
        "      <td> 2774</td>\n",
        "      <td> 2730</td>\n",
        "      <td> 0.057</td>\n",
        "    </tr>\n",
        "    <tr>\n",
        "      <th>9</th>\n",
        "      <td>                 Mesaverde mudshale 2 (Kelly 1983)</td>\n",
        "      <td>     Shale</td>\n",
        "      <td> 0.010</td>\n",
        "      <td> 5073</td>\n",
        "      <td> 2998</td>\n",
        "      <td> 2680</td>\n",
        "      <td> 0.012</td>\n",
        "    </tr>\n",
        "  </tbody>\n",
        "</table>\n",
        "</div>"
       ],
       "metadata": {},
       "output_type": "pyout",
       "prompt_number": 13,
       "text": [
        "                                              Sample  Lithology  Epsilon  \\\n",
        "0                       Mesaverde shale 2 (Lin 1985)      Shale    0.137   \n",
        "1        Mesaverde immature sandstone 3 (Kelly 1983)  Sandstone    0.091   \n",
        "2                 Mesaverde clayshale 2 (Kelly 1983)      Shale    0.189   \n",
        "3                  LS-anisotropic shale (Levin 1979)      Shale    0.169   \n",
        "4          Mesaverde immature sandstone (Kelly 1983)  Sandstone    0.097   \n",
        "5  Calcite crystal (hexag. approx.) (Simmons and ...    Crystal    0.369   \n",
        "6                        Berea sandstone (King 1964)  Sandstone    0.002   \n",
        "7             Green River shale (Schock et al. 1974)      Shale    0.195   \n",
        "8                     Mesaverde sandstone (Lin 1985)  Sandstone    0.081   \n",
        "9                  Mesaverde mudshale 2 (Kelly 1983)      Shale    0.010   \n",
        "\n",
        "     Vp    Vs   Rho  Delta  \n",
        "0  3901  2682  2640 -0.012  \n",
        "1  4349  2571  2460  0.148  \n",
        "2  3794  2074  2560  0.204  \n",
        "3  3306  1819  2440  0.000  \n",
        "4  4476  2814  2500  0.091  \n",
        "5  5334  3353  2710  0.579  \n",
        "6  4206  2664  2140  0.020  \n",
        "7  3292  1768  2075 -0.220  \n",
        "8  3688  2774  2730  0.057  \n",
        "9  5073  2998  2680  0.012  "
       ]
      }
     ],
     "prompt_number": 13
    },
    {
     "cell_type": "markdown",
     "metadata": {},
     "source": [
      "That looks great!"
     ]
    },
    {
     "cell_type": "heading",
     "level": 2,
     "metadata": {},
     "source": [
      "Plotting"
     ]
    },
    {
     "cell_type": "code",
     "collapsed": false,
     "input": [
      "import matplotlib.pyplot as plt\n",
      "import numpy as np\n",
      "%matplotlib inline"
     ],
     "language": "python",
     "metadata": {},
     "outputs": [],
     "prompt_number": 14
    },
    {
     "cell_type": "code",
     "collapsed": false,
     "input": [
      "plt.scatter(df.Vs, df.Vp)\n",
      "plt.show()"
     ],
     "language": "python",
     "metadata": {},
     "outputs": [
      {
       "metadata": {},
       "output_type": "display_data",
       "png": "[encoded data removed]",
       "text": [
        "<matplotlib.figure.Figure at 0x109f32850>"
       ]
      }
     ],
     "prompt_number": 15
    },
    {
     "cell_type": "markdown",
     "metadata": {},
     "source": [
      "That was easy! Let's do something more deliberate."
     ]
    },
    {
     "cell_type": "code",
     "collapsed": false,
     "input": [
      "liths = df.groupby('Lithology')"
     ],
     "language": "python",
     "metadata": {},
     "outputs": [],
     "prompt_number": 16
    },
    {
     "cell_type": "code",
     "collapsed": false,
     "input": [
      "fig = plt.figure(figsize=(6,6))\n",
      "ax = plt.subplot(111)\n",
      "for name, group in liths:\n",
      "    ax.plot(group.Vs, group.Vp, marker='o', linestyle='', ms=6, label=name)\n",
      "ax.set_xlabel('$V_\\mathrm{S} \\mathrm{(m/s)}$', size=20)\n",
      "ax.set_ylabel('$V_\\mathrm{P} \\mathrm{(m/s)}$', size=20) \n",
      "ax.legend(loc=2)\n",
      "\n",
      "plt.show()"
     ],
     "language": "python",
     "metadata": {},
     "outputs": [
      {
       "metadata": {},
       "output_type": "display_data",
       "png": "[encoded data removed]",
       "text": [
        "<matplotlib.figure.Figure at 0x10a4c3cd0>"
       ]
      }
     ],
     "prompt_number": 29
    },
    {
     "cell_type": "markdown",
     "metadata": {},
     "source": [
      "We could spend more time finessing the plot, but that's not bad. We'll call it a win!"
     ]
    },
    {
     "cell_type": "markdown",
     "metadata": {},
     "source": [
      "<hr />"
     ]
    },
    {
     "cell_type": "heading",
     "level": 2,
     "metadata": {},
     "source": [
      "Things to do"
     ]
    },
    {
     "cell_type": "heading",
     "level": 3,
     "metadata": {},
     "source": [
      "Friendly indices"
     ]
    },
    {
     "cell_type": "markdown",
     "metadata": {},
     "source": [
      "The UUID is a good idea but unwieldy. We should add a 'friendlty' index for rocks... [Recommendation from here](http://www.buyplm.com/plm-good-practice/part-numbering-system-software.aspx):\n",
      "\n",
      "  > 6 numeric characters, no delimiter. Start at 100001 and increment."
     ]
    },
    {
     "cell_type": "markdown",
     "metadata": {},
     "source": [
      "<hr />\n",
      "<p style=\"color:gray;\">\u00a9 Agile Geoscience 2015. This notebook is licensed under the terms of <a href=\"https://creativecommons.org/licenses/by/4.0/\">Creative Commons Attribution 4.0</a>. Please use it!</p>"
     ]
    }
   ],
   "metadata": {}
  }
 ]
}